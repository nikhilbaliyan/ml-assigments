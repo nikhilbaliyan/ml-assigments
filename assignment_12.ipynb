{
 "cells": [
  {
   "cell_type": "markdown",
   "metadata": {},
   "source": [
    "<b>Que:1</b>"
   ]
  },
  {
   "cell_type": "code",
   "execution_count": 37,
   "metadata": {},
   "outputs": [],
   "source": [
    "from sklearn import datasets\n",
    "import pandas as pd\n",
    "import numpy as np\n",
    "from sklearn.model_selection import train_test_split\n",
    "from sklearn.linear_model import LogisticRegression\n",
    "from sklearn import model_selection\n",
    "from sklearn.metrics import confusion_matrix"
   ]
  },
  {
   "cell_type": "code",
   "execution_count": 38,
   "metadata": {},
   "outputs": [],
   "source": [
    "mnist = datasets.load_digits()"
   ]
  },
  {
   "cell_type": "markdown",
   "metadata": {},
   "source": [
    "<b>Que: 2</b>"
   ]
  },
  {
   "cell_type": "code",
   "execution_count": 39,
   "metadata": {},
   "outputs": [],
   "source": [
    "X = pd.DataFrame(np.array(mnist.data))"
   ]
  },
  {
   "cell_type": "code",
   "execution_count": 40,
   "metadata": {},
   "outputs": [],
   "source": [
    "y = pd.DataFrame(mnist.target)"
   ]
  },
  {
   "cell_type": "markdown",
   "metadata": {},
   "source": [
    "<b>Que: 3</b>"
   ]
  },
  {
   "cell_type": "code",
   "execution_count": 41,
   "metadata": {},
   "outputs": [],
   "source": [
    "X_train, X_test, y_train, y_test = train_test_split(X, y, test_size=0.30, random_state=20)"
   ]
  },
  {
   "cell_type": "markdown",
   "metadata": {},
   "source": [
    "<b>Que: 4</b>"
   ]
  },
  {
   "cell_type": "code",
   "execution_count": 42,
   "metadata": {},
   "outputs": [
    {
     "name": "stderr",
     "output_type": "stream",
     "text": [
      "/usr/local/lib/python3.6/dist-packages/sklearn/utils/validation.py:578: DataConversionWarning: A column-vector y was passed when a 1d array was expected. Please change the shape of y to (n_samples, ), for example using ravel().\n",
      "  y = column_or_1d(y, warn=True)\n"
     ]
    },
    {
     "data": {
      "text/plain": [
       "LogisticRegression(C=1.0, class_weight=None, dual=False, fit_intercept=True,\n",
       "          intercept_scaling=1, max_iter=100, multi_class='ovr', n_jobs=1,\n",
       "          penalty='l2', random_state=None, solver='liblinear', tol=0.0001,\n",
       "          verbose=0, warm_start=False)"
      ]
     },
     "execution_count": 42,
     "metadata": {},
     "output_type": "execute_result"
    }
   ],
   "source": [
    "l_reg = LogisticRegression()\n",
    "l_reg.fit(X_train, y_train)\n"
   ]
  },
  {
   "cell_type": "code",
   "execution_count": 43,
   "metadata": {},
   "outputs": [
    {
     "data": {
      "text/plain": [
       "array([0, 7, 9, 5, 8, 1, 3, 3, 7, 0, 9, 4, 7, 4, 0, 3, 1, 8, 1, 3, 7, 8,\n",
       "       4, 6, 1, 0, 1, 0, 5, 4, 7, 1, 6, 7, 8, 4, 3, 7, 4, 0, 5, 9, 0, 4,\n",
       "       8, 7, 4, 3, 6, 3, 9, 2, 2, 5, 7, 3, 7, 8, 3, 8, 6, 6, 8, 6, 8, 5,\n",
       "       0, 5, 3, 5, 0, 7, 3, 2, 9, 9, 3, 0, 2, 5, 5, 9, 2, 4, 5, 9, 7, 7,\n",
       "       2, 3, 0, 4, 6, 1, 1, 7, 1, 9, 9, 3, 4, 6, 7, 8, 1, 8, 4, 0, 1, 3,\n",
       "       6, 1, 5, 5, 1, 6, 0, 6, 2, 8, 9, 4, 1, 3, 4, 0, 6, 7, 7, 9, 8, 7,\n",
       "       8, 2, 4, 2, 5, 2, 3, 8, 7, 9, 8, 0, 0, 6, 2, 6, 9, 0, 9, 0, 0, 8,\n",
       "       7, 5, 3, 4, 0, 5, 6, 2, 6, 0, 4, 8, 7, 9, 2, 4, 3, 6, 4, 4, 5, 2,\n",
       "       8, 0, 7, 7, 3, 2, 2, 9, 0, 7, 2, 1, 6, 7, 9, 1, 5, 1, 6, 4, 6, 1,\n",
       "       3, 6, 1, 0, 8, 6, 5, 8, 8, 9, 1, 5, 1, 2, 6, 7, 5, 0, 1, 2, 4, 7,\n",
       "       0, 9, 6, 4, 7, 6, 5, 1, 2, 5, 5, 4, 6, 1, 7, 6, 1, 8, 9, 6, 2, 8,\n",
       "       5, 8, 3, 3, 9, 0, 3, 7, 9, 9, 1, 7, 0, 0, 5, 7, 3, 6, 3, 8, 6, 3,\n",
       "       6, 9, 8, 3, 3, 4, 4, 0, 7, 1, 5, 6, 1, 4, 6, 4, 9, 6, 3, 7, 4, 5,\n",
       "       2, 5, 6, 4, 0, 4, 2, 2, 3, 3, 2, 9, 0, 9, 7, 4, 9, 8, 6, 3, 2, 4,\n",
       "       9, 4, 2, 4, 4, 1, 7, 0, 0, 1, 6, 3, 6, 8, 5, 6, 1, 3, 8, 3, 6, 3,\n",
       "       8, 6, 6, 7, 7, 6, 4, 6, 1, 4, 1, 7, 9, 0, 1, 7, 4, 8, 5, 5, 2, 9,\n",
       "       3, 4, 6, 3, 7, 0, 0, 8, 0, 8, 8, 7, 1, 9, 4, 9, 2, 1, 5, 8, 1, 0,\n",
       "       6, 2, 5, 5, 9, 5, 7, 9, 1, 1, 1, 8, 1, 4, 3, 4, 6, 2, 9, 6, 5, 0,\n",
       "       1, 0, 9, 2, 5, 5, 7, 4, 0, 0, 3, 4, 7, 5, 4, 8, 9, 3, 8, 6, 6, 9,\n",
       "       1, 1, 5, 2, 7, 0, 4, 4, 1, 5, 9, 1, 5, 4, 1, 6, 5, 4, 6, 2, 9, 9,\n",
       "       9, 0, 1, 6, 6, 1, 5, 5, 3, 9, 9, 9, 3, 8, 3, 8, 8, 1, 9, 1, 3, 1,\n",
       "       3, 9, 1, 7, 7, 1, 8, 4, 3, 1, 9, 8, 3, 4, 6, 2, 7, 2, 3, 3, 3, 3,\n",
       "       0, 8, 7, 7, 3, 2, 3, 3, 5, 3, 4, 5, 0, 4, 2, 8, 4, 3, 2, 5, 6, 1,\n",
       "       3, 2, 4, 8, 2, 0, 0, 4, 7, 8, 8, 1, 1, 6, 8, 4, 2, 8, 5, 2, 5, 1,\n",
       "       9, 4, 9, 5, 3, 1, 4, 9, 1, 0, 9, 2])"
      ]
     },
     "execution_count": 43,
     "metadata": {},
     "output_type": "execute_result"
    }
   ],
   "source": [
    "prediction = l_reg.predict(X_test)\n",
    "prediction"
   ]
  },
  {
   "cell_type": "code",
   "execution_count": 44,
   "metadata": {},
   "outputs": [
    {
     "data": {
      "text/plain": [
       "0.9685185185185186"
      ]
     },
     "execution_count": 44,
     "metadata": {},
     "output_type": "execute_result"
    }
   ],
   "source": [
    "l_reg.score(X_test , y_test)"
   ]
  },
  {
   "cell_type": "markdown",
   "metadata": {},
   "source": [
    "<b>Que: 5</b>"
   ]
  },
  {
   "cell_type": "code",
   "execution_count": 45,
   "metadata": {},
   "outputs": [
    {
     "data": {
      "text/plain": [
       "0.9685185185185186"
      ]
     },
     "execution_count": 45,
     "metadata": {},
     "output_type": "execute_result"
    }
   ],
   "source": [
    "from sklearn.metrics import accuracy_score\n",
    "accuracy_score(y_test,prediction)"
   ]
  },
  {
   "cell_type": "code",
   "execution_count": 46,
   "metadata": {},
   "outputs": [
    {
     "data": {
      "text/plain": [
       "array([[50,  0,  0,  0,  0,  0,  0,  0,  0,  0],\n",
       "       [ 0, 55,  0,  1,  0,  0,  0,  0,  0,  0],\n",
       "       [ 0,  0, 44,  0,  0,  0,  0,  0,  0,  0],\n",
       "       [ 0,  0,  0, 59,  0,  1,  0,  0,  3,  0],\n",
       "       [ 0,  1,  0,  0, 59,  0,  0,  0,  0,  0],\n",
       "       [ 0,  1,  0,  0,  0, 49,  0,  0,  0,  1],\n",
       "       [ 0,  0,  0,  0,  1,  1, 57,  0,  0,  0],\n",
       "       [ 0,  0,  0,  0,  0,  0,  0, 51,  0,  2],\n",
       "       [ 0,  3,  0,  0,  0,  0,  0,  1, 48,  0],\n",
       "       [ 0,  1,  0,  0,  0,  0,  0,  0,  0, 51]])"
      ]
     },
     "execution_count": 46,
     "metadata": {},
     "output_type": "execute_result"
    }
   ],
   "source": [
    "confusion_matrix(y_test,prediction)"
   ]
  },
  {
   "cell_type": "code",
   "execution_count": 47,
   "metadata": {},
   "outputs": [
    {
     "data": {
      "text/plain": [
       "0.18973455400842026"
      ]
     },
     "execution_count": 47,
     "metadata": {},
     "output_type": "execute_result"
    }
   ],
   "source": [
    "from sklearn.metrics import log_loss\n",
    "pred = l_reg.predict_proba(X_test)\n",
    "log_loss(y_test , pred, labels=[0,1,2,3,4,5,6,7,8,9])"
   ]
  },
  {
   "cell_type": "code",
   "execution_count": 48,
   "metadata": {},
   "outputs": [
    {
     "data": {
      "text/plain": [
       "0.6462962962962963"
      ]
     },
     "execution_count": 48,
     "metadata": {},
     "output_type": "execute_result"
    }
   ],
   "source": [
    "from sklearn.metrics import mean_squared_error\n",
    "mean_squared_error(y_test , prediction)"
   ]
  },
  {
   "cell_type": "code",
   "execution_count": 49,
   "metadata": {},
   "outputs": [
    {
     "data": {
      "text/plain": [
       "0.12407407407407407"
      ]
     },
     "execution_count": 49,
     "metadata": {},
     "output_type": "execute_result"
    }
   ],
   "source": [
    "from sklearn.metrics import mean_absolute_error\n",
    "mean_absolute_error(y_test , prediction )"
   ]
  },
  {
   "cell_type": "code",
   "execution_count": 50,
   "metadata": {},
   "outputs": [
    {
     "data": {
      "text/plain": [
       "0.918778829399771"
      ]
     },
     "execution_count": 50,
     "metadata": {},
     "output_type": "execute_result"
    }
   ],
   "source": [
    "from sklearn.metrics import r2_score\n",
    "r2_score(y_test,prediction)"
   ]
  },
  {
   "cell_type": "code",
   "execution_count": 51,
   "metadata": {},
   "outputs": [
    {
     "data": {
      "text/plain": [
       "'             precision    recall  f1-score   support\\n\\n          0       1.00      1.00      1.00        50\\n          1       0.90      0.98      0.94        56\\n          2       1.00      1.00      1.00        44\\n          3       0.98      0.94      0.96        63\\n          4       0.98      0.98      0.98        60\\n          5       0.96      0.96      0.96        51\\n          6       1.00      0.97      0.98        59\\n          7       0.98      0.96      0.97        53\\n          8       0.94      0.92      0.93        52\\n          9       0.94      0.98      0.96        52\\n\\navg / total       0.97      0.97      0.97       540\\n'"
      ]
     },
     "execution_count": 51,
     "metadata": {},
     "output_type": "execute_result"
    }
   ],
   "source": [
    "from sklearn.metrics import classification_report\n",
    "classification_report(y_test,prediction)"
   ]
  }
 ],
 "metadata": {
  "kernelspec": {
   "display_name": "Python 3",
   "language": "python",
   "name": "python3"
  },
  "language_info": {
   "codemirror_mode": {
    "name": "ipython",
    "version": 3
   },
   "file_extension": ".py",
   "mimetype": "text/x-python",
   "name": "python",
   "nbconvert_exporter": "python",
   "pygments_lexer": "ipython3",
   "version": "3.6.6rc1"
  }
 },
 "nbformat": 4,
 "nbformat_minor": 2
}
